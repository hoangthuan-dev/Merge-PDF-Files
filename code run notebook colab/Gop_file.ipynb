{
  "nbformat": 4,
  "nbformat_minor": 0,
  "metadata": {
    "colab": {
      "provenance": []
    },
    "kernelspec": {
      "name": "python3",
      "display_name": "Python 3"
    },
    "language_info": {
      "name": "python"
    }
  },
  "cells": [
    {
      "cell_type": "code",
      "source": [
        "# Bước 1: Cài đặt thư viện nếu chưa có\n",
        "!pip install PyPDF2\n",
        "\n",
        "# Bước 2: Mount Google Drive\n",
        "from google.colab import drive\n",
        "drive.mount('/content/drive')\n",
        "\n",
        "# Bước 3: Gộp các file PDF từ thư mục cụ thể\n",
        "from PyPDF2 import PdfMerger\n",
        "import os\n",
        "import re\n",
        "\n",
        "def extract_number(filename):\n",
        "    match = re.search(r'(\\d+)', filename)\n",
        "    return int(match.group(1)) if match else 0\n",
        "\n",
        "def merge_pdfs(input_folder, output_filename=\"merged_output.pdf\"):\n",
        "    merger = PdfMerger()\n",
        "\n",
        "    # Lấy danh sách các file PDF và sắp xếp đúng thứ tự theo số\n",
        "    pdf_files = [f for f in os.listdir(input_folder) if f.endswith('.pdf')]\n",
        "    pdf_files.sort(key=extract_number)\n",
        "\n",
        "    for pdf_file in pdf_files:\n",
        "        pdf_path = os.path.join(input_folder, pdf_file)\n",
        "        merger.append(pdf_path)\n",
        "        print(f\"🔗 Đã thêm: {pdf_file}\")\n",
        "\n",
        "    # Gộp thành file cuối cùng\n",
        "    output_path = os.path.join(input_folder, output_filename)\n",
        "    merger.write(output_path)\n",
        "    merger.close()\n",
        "\n",
        "    print(f\"\\n✅ Đã tạo file gộp: {output_path}\")\n",
        "    return output_path\n"
      ],
      "metadata": {
        "colab": {
          "base_uri": "https://localhost:8080/"
        },
        "id": "mSFwHh5J9eqM",
        "outputId": "22d4510f-ada3-4906-bec0-a6b2385eb065"
      },
      "execution_count": null,
      "outputs": [
        {
          "output_type": "stream",
          "name": "stdout",
          "text": [
            "Collecting PyPDF2\n",
            "  Downloading pypdf2-3.0.1-py3-none-any.whl.metadata (6.8 kB)\n",
            "Downloading pypdf2-3.0.1-py3-none-any.whl (232 kB)\n",
            "\u001b[?25l   \u001b[90m━━━━━━━━━━━━━━━━━━━━━━━━━━━━━━━━━━━━━━━━\u001b[0m \u001b[32m0.0/232.6 kB\u001b[0m \u001b[31m?\u001b[0m eta \u001b[36m-:--:--\u001b[0m\r\u001b[2K   \u001b[91m━━━━━━━━━━━━━━━━━━━━━━━━\u001b[0m\u001b[91m╸\u001b[0m\u001b[90m━━━━━━━━━━━━━━━\u001b[0m \u001b[32m143.4/232.6 kB\u001b[0m \u001b[31m4.1 MB/s\u001b[0m eta \u001b[36m0:00:01\u001b[0m\r\u001b[2K   \u001b[90m━━━━━━━━━━━━━━━━━━━━━━━━━━━━━━━━━━━━━━━━\u001b[0m \u001b[32m232.6/232.6 kB\u001b[0m \u001b[31m3.9 MB/s\u001b[0m eta \u001b[36m0:00:00\u001b[0m\n",
            "\u001b[?25hInstalling collected packages: PyPDF2\n",
            "Successfully installed PyPDF2-3.0.1\n",
            "Mounted at /content/drive\n"
          ]
        }
      ]
    },
    {
      "cell_type": "code",
      "source": [
        "# Đường dẫn thư mục chứa các file PDF bạn muốn gộp trên Google Drive\n",
        "input_folder = \"/content/drive/MyDrive/Colab Notebooks/file_can_gop\"\n",
        "\n",
        "# Gọi hàm\n",
        "merge_pdfs(input_folder, output_filename=\"file_gop_lai.pdf\")"
      ],
      "metadata": {
        "colab": {
          "base_uri": "https://localhost:8080/",
          "height": 105
        },
        "id": "32TdQka596ti",
        "outputId": "60c22739-a86e-4e2f-94a3-7890f1a4dfb7"
      },
      "execution_count": null,
      "outputs": [
        {
          "output_type": "stream",
          "name": "stdout",
          "text": [
            "🔗 Đã thêm: part_1.pdf\n",
            "🔗 Đã thêm: part_2.pdf\n",
            "\n",
            "✅ Đã tạo file gộp: /content/drive/MyDrive/Colab Notebooks/file_can_gop/file_gop_lai.pdf\n"
          ]
        },
        {
          "output_type": "execute_result",
          "data": {
            "text/plain": [
              "'/content/drive/MyDrive/Colab Notebooks/file_can_gop/file_gop_lai.pdf'"
            ],
            "application/vnd.google.colaboratory.intrinsic+json": {
              "type": "string"
            }
          },
          "metadata": {},
          "execution_count": 2
        }
      ]
    },
    {
      "cell_type": "code",
      "source": [
        "from google.colab import files\n",
        "files.download(\"/content/drive/MyDrive/Colab Notebooks/file_can_gop/file_gop_lai.pdf\")\n"
      ],
      "metadata": {
        "colab": {
          "base_uri": "https://localhost:8080/",
          "height": 17
        },
        "id": "vt4b9GmE98RQ",
        "outputId": "6fff087f-9b70-42a9-c992-cdef4c775830"
      },
      "execution_count": null,
      "outputs": [
        {
          "output_type": "display_data",
          "data": {
            "text/plain": [
              "<IPython.core.display.Javascript object>"
            ],
            "application/javascript": [
              "\n",
              "    async function download(id, filename, size) {\n",
              "      if (!google.colab.kernel.accessAllowed) {\n",
              "        return;\n",
              "      }\n",
              "      const div = document.createElement('div');\n",
              "      const label = document.createElement('label');\n",
              "      label.textContent = `Downloading \"${filename}\": `;\n",
              "      div.appendChild(label);\n",
              "      const progress = document.createElement('progress');\n",
              "      progress.max = size;\n",
              "      div.appendChild(progress);\n",
              "      document.body.appendChild(div);\n",
              "\n",
              "      const buffers = [];\n",
              "      let downloaded = 0;\n",
              "\n",
              "      const channel = await google.colab.kernel.comms.open(id);\n",
              "      // Send a message to notify the kernel that we're ready.\n",
              "      channel.send({})\n",
              "\n",
              "      for await (const message of channel.messages) {\n",
              "        // Send a message to notify the kernel that we're ready.\n",
              "        channel.send({})\n",
              "        if (message.buffers) {\n",
              "          for (const buffer of message.buffers) {\n",
              "            buffers.push(buffer);\n",
              "            downloaded += buffer.byteLength;\n",
              "            progress.value = downloaded;\n",
              "          }\n",
              "        }\n",
              "      }\n",
              "      const blob = new Blob(buffers, {type: 'application/binary'});\n",
              "      const a = document.createElement('a');\n",
              "      a.href = window.URL.createObjectURL(blob);\n",
              "      a.download = filename;\n",
              "      div.appendChild(a);\n",
              "      a.click();\n",
              "      div.remove();\n",
              "    }\n",
              "  "
            ]
          },
          "metadata": {}
        },
        {
          "output_type": "display_data",
          "data": {
            "text/plain": [
              "<IPython.core.display.Javascript object>"
            ],
            "application/javascript": [
              "download(\"download_2884a2c7-cbd6-478c-9c90-e12eb94ab5cf\", \"file_gop_lai.pdf\", 11795596)"
            ]
          },
          "metadata": {}
        }
      ]
    }
  ]
}